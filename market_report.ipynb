{
 "cells": [
  {
   "cell_type": "markdown",
   "id": "3be3e40d-3e73-4277-a33c-60debe2a2f68",
   "metadata": {},
   "source": [
    "# Projeto 1: Report de mercado\r\n",
    "\r\n",
    "### Desafio:\r\n",
    "\r\n",
    "* Automação de um relatório de fechamento de mercado com o Python através da coleta de cotações históricas do Ibovespa e Dólar e do envio diário através de uma ferramenta de e-mail automaticamente.  \r\n",
    "\r\n",
    "### Passo a passo:\r\n",
    "\r\n",
    "*   **Passo 1** - Instalar e importar os módulos e bibliotecas.\r\n",
    "   \r\n",
    "   \r\n",
    "*   **Passo 2** - Pegar as cotações históricas.\r\n",
    "   \r\n",
    "   \r\n",
    "*   **Passo 3** - Tratar dados coletados.\r\n",
    "   \r\n",
    "   \r\n",
    "*   **Passo 4** - Criar gráficos de performance.\r\n",
    "   \r\n",
    "   \r\n",
    "*   **Passo 5** - Calcular retornos diários.\r\n",
    "   \r\n",
    "   \r\n",
    "*   **Passo 6** - Configurar e enviar o e-mail.\r\n",
    "   \r\n",
    "-------------------"
   ]
  },
  {
   "cell_type": "code",
   "execution_count": 8,
   "id": "70708565-b135-4501-9561-583fea4214e2",
   "metadata": {},
   "outputs": [
    {
     "name": "stdout",
     "output_type": "stream",
     "text": [
      "Requirement already satisfied: mplcyberpunk in c:\\users\\mateu\\anaconda3\\lib\\site-packages (0.7.1)\n",
      "Requirement already satisfied: matplotlib in c:\\users\\mateu\\anaconda3\\lib\\site-packages (from mplcyberpunk) (3.8.4)\n",
      "Requirement already satisfied: contourpy>=1.0.1 in c:\\users\\mateu\\anaconda3\\lib\\site-packages (from matplotlib->mplcyberpunk) (1.2.0)\n",
      "Requirement already satisfied: cycler>=0.10 in c:\\users\\mateu\\anaconda3\\lib\\site-packages (from matplotlib->mplcyberpunk) (0.11.0)\n",
      "Requirement already satisfied: fonttools>=4.22.0 in c:\\users\\mateu\\anaconda3\\lib\\site-packages (from matplotlib->mplcyberpunk) (4.51.0)\n",
      "Requirement already satisfied: kiwisolver>=1.3.1 in c:\\users\\mateu\\anaconda3\\lib\\site-packages (from matplotlib->mplcyberpunk) (1.4.4)\n",
      "Requirement already satisfied: numpy>=1.21 in c:\\users\\mateu\\anaconda3\\lib\\site-packages (from matplotlib->mplcyberpunk) (1.26.4)\n",
      "Requirement already satisfied: packaging>=20.0 in c:\\users\\mateu\\anaconda3\\lib\\site-packages (from matplotlib->mplcyberpunk) (23.2)\n",
      "Requirement already satisfied: pillow>=8 in c:\\users\\mateu\\anaconda3\\lib\\site-packages (from matplotlib->mplcyberpunk) (10.3.0)\n",
      "Requirement already satisfied: pyparsing>=2.3.1 in c:\\users\\mateu\\anaconda3\\lib\\site-packages (from matplotlib->mplcyberpunk) (3.0.9)\n",
      "Requirement already satisfied: python-dateutil>=2.7 in c:\\users\\mateu\\anaconda3\\lib\\site-packages (from matplotlib->mplcyberpunk) (2.9.0.post0)\n",
      "Requirement already satisfied: six>=1.5 in c:\\users\\mateu\\anaconda3\\lib\\site-packages (from python-dateutil>=2.7->matplotlib->mplcyberpunk) (1.16.0)\n"
     ]
    }
   ],
   "source": [
    "!pip install mplcyberpunk"
   ]
  },
  {
   "cell_type": "code",
   "execution_count": 10,
   "id": "196fd3a9-44c6-4cfc-b6da-cab8264c00cd",
   "metadata": {},
   "outputs": [
    {
     "name": "stdout",
     "output_type": "stream",
     "text": [
      "Requirement already satisfied: yfinance in c:\\users\\mateu\\anaconda3\\lib\\site-packages (0.2.40)\n",
      "Requirement already satisfied: pandas>=1.3.0 in c:\\users\\mateu\\anaconda3\\lib\\site-packages (from yfinance) (2.2.2)\n",
      "Requirement already satisfied: numpy>=1.16.5 in c:\\users\\mateu\\anaconda3\\lib\\site-packages (from yfinance) (1.26.4)\n",
      "Requirement already satisfied: requests>=2.31 in c:\\users\\mateu\\anaconda3\\lib\\site-packages (from yfinance) (2.32.2)\n",
      "Requirement already satisfied: multitasking>=0.0.7 in c:\\users\\mateu\\anaconda3\\lib\\site-packages (from yfinance) (0.0.11)\n",
      "Requirement already satisfied: lxml>=4.9.1 in c:\\users\\mateu\\anaconda3\\lib\\site-packages (from yfinance) (5.2.1)\n",
      "Requirement already satisfied: platformdirs>=2.0.0 in c:\\users\\mateu\\anaconda3\\lib\\site-packages (from yfinance) (3.10.0)\n",
      "Requirement already satisfied: pytz>=2022.5 in c:\\users\\mateu\\anaconda3\\lib\\site-packages (from yfinance) (2024.1)\n",
      "Requirement already satisfied: frozendict>=2.3.4 in c:\\users\\mateu\\anaconda3\\lib\\site-packages (from yfinance) (2.4.2)\n",
      "Requirement already satisfied: peewee>=3.16.2 in c:\\users\\mateu\\anaconda3\\lib\\site-packages (from yfinance) (3.17.6)\n",
      "Requirement already satisfied: beautifulsoup4>=4.11.1 in c:\\users\\mateu\\anaconda3\\lib\\site-packages (from yfinance) (4.12.3)\n",
      "Requirement already satisfied: html5lib>=1.1 in c:\\users\\mateu\\anaconda3\\lib\\site-packages (from yfinance) (1.1)\n",
      "Requirement already satisfied: soupsieve>1.2 in c:\\users\\mateu\\anaconda3\\lib\\site-packages (from beautifulsoup4>=4.11.1->yfinance) (2.5)\n",
      "Requirement already satisfied: six>=1.9 in c:\\users\\mateu\\anaconda3\\lib\\site-packages (from html5lib>=1.1->yfinance) (1.16.0)\n",
      "Requirement already satisfied: webencodings in c:\\users\\mateu\\anaconda3\\lib\\site-packages (from html5lib>=1.1->yfinance) (0.5.1)\n",
      "Requirement already satisfied: python-dateutil>=2.8.2 in c:\\users\\mateu\\anaconda3\\lib\\site-packages (from pandas>=1.3.0->yfinance) (2.9.0.post0)\n",
      "Requirement already satisfied: tzdata>=2022.7 in c:\\users\\mateu\\anaconda3\\lib\\site-packages (from pandas>=1.3.0->yfinance) (2023.3)\n",
      "Requirement already satisfied: charset-normalizer<4,>=2 in c:\\users\\mateu\\anaconda3\\lib\\site-packages (from requests>=2.31->yfinance) (2.0.4)\n",
      "Requirement already satisfied: idna<4,>=2.5 in c:\\users\\mateu\\anaconda3\\lib\\site-packages (from requests>=2.31->yfinance) (3.7)\n",
      "Requirement already satisfied: urllib3<3,>=1.21.1 in c:\\users\\mateu\\anaconda3\\lib\\site-packages (from requests>=2.31->yfinance) (2.2.2)\n",
      "Requirement already satisfied: certifi>=2017.4.17 in c:\\users\\mateu\\anaconda3\\lib\\site-packages (from requests>=2.31->yfinance) (2024.8.30)\n"
     ]
    }
   ],
   "source": [
    "!pip install yfinance"
   ]
  },
  {
   "cell_type": "code",
   "execution_count": 12,
   "id": "ce967e02-e818-4dd1-8f96-420670bb8171",
   "metadata": {},
   "outputs": [],
   "source": [
    "import yfinance as yf\n",
    "import pandas as pd\n",
    "import matplotlib.pyplot as plt\n",
    "import mplcyberpunk"
   ]
  },
  {
   "cell_type": "markdown",
   "id": "d40ceb36-7434-4cf6-89ff-9dae2819007b",
   "metadata": {},
   "source": [
    "# Passo 2 - Pegar as cotações históricas\r\n"
   ]
  },
  {
   "cell_type": "code",
   "execution_count": 15,
   "id": "7957b3ce-3c26-4da4-b1ef-d0d5980f5b7a",
   "metadata": {},
   "outputs": [],
   "source": [
    "tickers = [\"^BVSP\", \"^GSPC\", \"BRL=X\"]"
   ]
  },
  {
   "cell_type": "code",
   "execution_count": 17,
   "id": "8b3ca2e0-92e3-4cfd-999c-ed996fb3588d",
   "metadata": {},
   "outputs": [
    {
     "name": "stderr",
     "output_type": "stream",
     "text": [
      "[*********************100%%**********************]  3 of 3 completed\n"
     ]
    },
    {
     "data": {
      "text/html": [
       "<div>\n",
       "<style scoped>\n",
       "    .dataframe tbody tr th:only-of-type {\n",
       "        vertical-align: middle;\n",
       "    }\n",
       "\n",
       "    .dataframe tbody tr th {\n",
       "        vertical-align: top;\n",
       "    }\n",
       "\n",
       "    .dataframe thead th {\n",
       "        text-align: right;\n",
       "    }\n",
       "</style>\n",
       "<table border=\"1\" class=\"dataframe\">\n",
       "  <thead>\n",
       "    <tr style=\"text-align: right;\">\n",
       "      <th>Ticker</th>\n",
       "      <th>BRL=X</th>\n",
       "      <th>^BVSP</th>\n",
       "      <th>^GSPC</th>\n",
       "    </tr>\n",
       "    <tr>\n",
       "      <th>Date</th>\n",
       "      <th></th>\n",
       "      <th></th>\n",
       "      <th></th>\n",
       "    </tr>\n",
       "  </thead>\n",
       "  <tbody>\n",
       "    <tr>\n",
       "      <th>2024-03-12</th>\n",
       "      <td>NaN</td>\n",
       "      <td>127668.0</td>\n",
       "      <td>NaN</td>\n",
       "    </tr>\n",
       "    <tr>\n",
       "      <th>2024-03-13</th>\n",
       "      <td>4.968700</td>\n",
       "      <td>128006.0</td>\n",
       "      <td>5165.310059</td>\n",
       "    </tr>\n",
       "    <tr>\n",
       "      <th>2024-03-14</th>\n",
       "      <td>4.969200</td>\n",
       "      <td>127690.0</td>\n",
       "      <td>5150.479980</td>\n",
       "    </tr>\n",
       "    <tr>\n",
       "      <th>2024-03-15</th>\n",
       "      <td>4.992700</td>\n",
       "      <td>126742.0</td>\n",
       "      <td>5117.089844</td>\n",
       "    </tr>\n",
       "    <tr>\n",
       "      <th>2024-03-18</th>\n",
       "      <td>4.968047</td>\n",
       "      <td>126954.0</td>\n",
       "      <td>5149.419922</td>\n",
       "    </tr>\n",
       "    <tr>\n",
       "      <th>...</th>\n",
       "      <td>...</td>\n",
       "      <td>...</td>\n",
       "      <td>...</td>\n",
       "    </tr>\n",
       "    <tr>\n",
       "      <th>2024-09-09</th>\n",
       "      <td>5.596600</td>\n",
       "      <td>134737.0</td>\n",
       "      <td>5471.049805</td>\n",
       "    </tr>\n",
       "    <tr>\n",
       "      <th>2024-09-10</th>\n",
       "      <td>5.584300</td>\n",
       "      <td>134320.0</td>\n",
       "      <td>5495.520020</td>\n",
       "    </tr>\n",
       "    <tr>\n",
       "      <th>2024-09-11</th>\n",
       "      <td>5.662900</td>\n",
       "      <td>134677.0</td>\n",
       "      <td>5554.129883</td>\n",
       "    </tr>\n",
       "    <tr>\n",
       "      <th>2024-09-12</th>\n",
       "      <td>5.667400</td>\n",
       "      <td>134029.0</td>\n",
       "      <td>5595.759766</td>\n",
       "    </tr>\n",
       "    <tr>\n",
       "      <th>2024-09-13</th>\n",
       "      <td>5.627000</td>\n",
       "      <td>NaN</td>\n",
       "      <td>NaN</td>\n",
       "    </tr>\n",
       "  </tbody>\n",
       "</table>\n",
       "<p>134 rows × 3 columns</p>\n",
       "</div>"
      ],
      "text/plain": [
       "Ticker         BRL=X     ^BVSP        ^GSPC\n",
       "Date                                       \n",
       "2024-03-12       NaN  127668.0          NaN\n",
       "2024-03-13  4.968700  128006.0  5165.310059\n",
       "2024-03-14  4.969200  127690.0  5150.479980\n",
       "2024-03-15  4.992700  126742.0  5117.089844\n",
       "2024-03-18  4.968047  126954.0  5149.419922\n",
       "...              ...       ...          ...\n",
       "2024-09-09  5.596600  134737.0  5471.049805\n",
       "2024-09-10  5.584300  134320.0  5495.520020\n",
       "2024-09-11  5.662900  134677.0  5554.129883\n",
       "2024-09-12  5.667400  134029.0  5595.759766\n",
       "2024-09-13  5.627000       NaN          NaN\n",
       "\n",
       "[134 rows x 3 columns]"
      ]
     },
     "execution_count": 17,
     "metadata": {},
     "output_type": "execute_result"
    }
   ],
   "source": [
    "dados_mercado = yf.download(tickers, period = \"6mo\")\n",
    "dados_mercado = dados_mercado[\"Adj Close\"]\n",
    "dados_mercado"
   ]
  },
  {
   "cell_type": "markdown",
   "id": "4dc797dc-bd2a-4015-8bbd-2d3cffe8b99c",
   "metadata": {},
   "source": [
    "# Passo 3 - Tratar dados coletados.\r\n"
   ]
  },
  {
   "cell_type": "code",
   "execution_count": 20,
   "id": "fb569c04-4483-4a00-aa29-95a7daca815d",
   "metadata": {},
   "outputs": [
    {
     "data": {
      "text/html": [
       "<div>\n",
       "<style scoped>\n",
       "    .dataframe tbody tr th:only-of-type {\n",
       "        vertical-align: middle;\n",
       "    }\n",
       "\n",
       "    .dataframe tbody tr th {\n",
       "        vertical-align: top;\n",
       "    }\n",
       "\n",
       "    .dataframe thead th {\n",
       "        text-align: right;\n",
       "    }\n",
       "</style>\n",
       "<table border=\"1\" class=\"dataframe\">\n",
       "  <thead>\n",
       "    <tr style=\"text-align: right;\">\n",
       "      <th>Ticker</th>\n",
       "      <th>BRL=X</th>\n",
       "      <th>^BVSP</th>\n",
       "      <th>^GSPC</th>\n",
       "    </tr>\n",
       "    <tr>\n",
       "      <th>Date</th>\n",
       "      <th></th>\n",
       "      <th></th>\n",
       "      <th></th>\n",
       "    </tr>\n",
       "  </thead>\n",
       "  <tbody>\n",
       "    <tr>\n",
       "      <th>2024-03-13</th>\n",
       "      <td>4.968700</td>\n",
       "      <td>128006.0</td>\n",
       "      <td>5165.310059</td>\n",
       "    </tr>\n",
       "    <tr>\n",
       "      <th>2024-03-14</th>\n",
       "      <td>4.969200</td>\n",
       "      <td>127690.0</td>\n",
       "      <td>5150.479980</td>\n",
       "    </tr>\n",
       "    <tr>\n",
       "      <th>2024-03-15</th>\n",
       "      <td>4.992700</td>\n",
       "      <td>126742.0</td>\n",
       "      <td>5117.089844</td>\n",
       "    </tr>\n",
       "    <tr>\n",
       "      <th>2024-03-18</th>\n",
       "      <td>4.968047</td>\n",
       "      <td>126954.0</td>\n",
       "      <td>5149.419922</td>\n",
       "    </tr>\n",
       "    <tr>\n",
       "      <th>2024-03-19</th>\n",
       "      <td>5.029400</td>\n",
       "      <td>127529.0</td>\n",
       "      <td>5178.509766</td>\n",
       "    </tr>\n",
       "    <tr>\n",
       "      <th>...</th>\n",
       "      <td>...</td>\n",
       "      <td>...</td>\n",
       "      <td>...</td>\n",
       "    </tr>\n",
       "    <tr>\n",
       "      <th>2024-09-06</th>\n",
       "      <td>5.567500</td>\n",
       "      <td>134572.0</td>\n",
       "      <td>5408.419922</td>\n",
       "    </tr>\n",
       "    <tr>\n",
       "      <th>2024-09-09</th>\n",
       "      <td>5.596600</td>\n",
       "      <td>134737.0</td>\n",
       "      <td>5471.049805</td>\n",
       "    </tr>\n",
       "    <tr>\n",
       "      <th>2024-09-10</th>\n",
       "      <td>5.584300</td>\n",
       "      <td>134320.0</td>\n",
       "      <td>5495.520020</td>\n",
       "    </tr>\n",
       "    <tr>\n",
       "      <th>2024-09-11</th>\n",
       "      <td>5.662900</td>\n",
       "      <td>134677.0</td>\n",
       "      <td>5554.129883</td>\n",
       "    </tr>\n",
       "    <tr>\n",
       "      <th>2024-09-12</th>\n",
       "      <td>5.667400</td>\n",
       "      <td>134029.0</td>\n",
       "      <td>5595.759766</td>\n",
       "    </tr>\n",
       "  </tbody>\n",
       "</table>\n",
       "<p>125 rows × 3 columns</p>\n",
       "</div>"
      ],
      "text/plain": [
       "Ticker         BRL=X     ^BVSP        ^GSPC\n",
       "Date                                       \n",
       "2024-03-13  4.968700  128006.0  5165.310059\n",
       "2024-03-14  4.969200  127690.0  5150.479980\n",
       "2024-03-15  4.992700  126742.0  5117.089844\n",
       "2024-03-18  4.968047  126954.0  5149.419922\n",
       "2024-03-19  5.029400  127529.0  5178.509766\n",
       "...              ...       ...          ...\n",
       "2024-09-06  5.567500  134572.0  5408.419922\n",
       "2024-09-09  5.596600  134737.0  5471.049805\n",
       "2024-09-10  5.584300  134320.0  5495.520020\n",
       "2024-09-11  5.662900  134677.0  5554.129883\n",
       "2024-09-12  5.667400  134029.0  5595.759766\n",
       "\n",
       "[125 rows x 3 columns]"
      ]
     },
     "execution_count": 20,
     "metadata": {},
     "output_type": "execute_result"
    }
   ],
   "source": [
    "dados_mercado = dados_mercado.dropna()\n",
    "\n",
    "dados_mercado"
   ]
  },
  {
   "cell_type": "code",
   "execution_count": 22,
   "id": "012e2262-1c75-4425-a904-d3ddd91dcb71",
   "metadata": {},
   "outputs": [
    {
     "data": {
      "text/html": [
       "<div>\n",
       "<style scoped>\n",
       "    .dataframe tbody tr th:only-of-type {\n",
       "        vertical-align: middle;\n",
       "    }\n",
       "\n",
       "    .dataframe tbody tr th {\n",
       "        vertical-align: top;\n",
       "    }\n",
       "\n",
       "    .dataframe thead th {\n",
       "        text-align: right;\n",
       "    }\n",
       "</style>\n",
       "<table border=\"1\" class=\"dataframe\">\n",
       "  <thead>\n",
       "    <tr style=\"text-align: right;\">\n",
       "      <th></th>\n",
       "      <th>DOLAR</th>\n",
       "      <th>IBOVESPA</th>\n",
       "      <th>S&amp;P500</th>\n",
       "    </tr>\n",
       "    <tr>\n",
       "      <th>Date</th>\n",
       "      <th></th>\n",
       "      <th></th>\n",
       "      <th></th>\n",
       "    </tr>\n",
       "  </thead>\n",
       "  <tbody>\n",
       "    <tr>\n",
       "      <th>2024-03-13</th>\n",
       "      <td>4.968700</td>\n",
       "      <td>128006.0</td>\n",
       "      <td>5165.310059</td>\n",
       "    </tr>\n",
       "    <tr>\n",
       "      <th>2024-03-14</th>\n",
       "      <td>4.969200</td>\n",
       "      <td>127690.0</td>\n",
       "      <td>5150.479980</td>\n",
       "    </tr>\n",
       "    <tr>\n",
       "      <th>2024-03-15</th>\n",
       "      <td>4.992700</td>\n",
       "      <td>126742.0</td>\n",
       "      <td>5117.089844</td>\n",
       "    </tr>\n",
       "    <tr>\n",
       "      <th>2024-03-18</th>\n",
       "      <td>4.968047</td>\n",
       "      <td>126954.0</td>\n",
       "      <td>5149.419922</td>\n",
       "    </tr>\n",
       "    <tr>\n",
       "      <th>2024-03-19</th>\n",
       "      <td>5.029400</td>\n",
       "      <td>127529.0</td>\n",
       "      <td>5178.509766</td>\n",
       "    </tr>\n",
       "    <tr>\n",
       "      <th>...</th>\n",
       "      <td>...</td>\n",
       "      <td>...</td>\n",
       "      <td>...</td>\n",
       "    </tr>\n",
       "    <tr>\n",
       "      <th>2024-09-06</th>\n",
       "      <td>5.567500</td>\n",
       "      <td>134572.0</td>\n",
       "      <td>5408.419922</td>\n",
       "    </tr>\n",
       "    <tr>\n",
       "      <th>2024-09-09</th>\n",
       "      <td>5.596600</td>\n",
       "      <td>134737.0</td>\n",
       "      <td>5471.049805</td>\n",
       "    </tr>\n",
       "    <tr>\n",
       "      <th>2024-09-10</th>\n",
       "      <td>5.584300</td>\n",
       "      <td>134320.0</td>\n",
       "      <td>5495.520020</td>\n",
       "    </tr>\n",
       "    <tr>\n",
       "      <th>2024-09-11</th>\n",
       "      <td>5.662900</td>\n",
       "      <td>134677.0</td>\n",
       "      <td>5554.129883</td>\n",
       "    </tr>\n",
       "    <tr>\n",
       "      <th>2024-09-12</th>\n",
       "      <td>5.667400</td>\n",
       "      <td>134029.0</td>\n",
       "      <td>5595.759766</td>\n",
       "    </tr>\n",
       "  </tbody>\n",
       "</table>\n",
       "<p>125 rows × 3 columns</p>\n",
       "</div>"
      ],
      "text/plain": [
       "               DOLAR  IBOVESPA       S&P500\n",
       "Date                                       \n",
       "2024-03-13  4.968700  128006.0  5165.310059\n",
       "2024-03-14  4.969200  127690.0  5150.479980\n",
       "2024-03-15  4.992700  126742.0  5117.089844\n",
       "2024-03-18  4.968047  126954.0  5149.419922\n",
       "2024-03-19  5.029400  127529.0  5178.509766\n",
       "...              ...       ...          ...\n",
       "2024-09-06  5.567500  134572.0  5408.419922\n",
       "2024-09-09  5.596600  134737.0  5471.049805\n",
       "2024-09-10  5.584300  134320.0  5495.520020\n",
       "2024-09-11  5.662900  134677.0  5554.129883\n",
       "2024-09-12  5.667400  134029.0  5595.759766\n",
       "\n",
       "[125 rows x 3 columns]"
      ]
     },
     "execution_count": 22,
     "metadata": {},
     "output_type": "execute_result"
    }
   ],
   "source": [
    "dados_mercado.columns = [\"DOLAR\", \"IBOVESPA\", \"S&P500\"]\n",
    "\n",
    "dados_mercado"
   ]
  },
  {
   "cell_type": "markdown",
   "id": "4c2b8ae1-1048-445a-86c0-50ad3807805a",
   "metadata": {},
   "source": [
    "# Passo 4 - Criar gráficos de performance."
   ]
  },
  {
   "cell_type": "code",
   "execution_count": 25,
   "id": "605f55dd-f0f4-47e8-afbc-3c1cba123295",
   "metadata": {},
   "outputs": [],
   "source": [
    "plt.style.use(\"cyberpunk\")"
   ]
  },
  {
   "cell_type": "code",
   "execution_count": 27,
   "id": "1cdd1ac8-b50e-4037-8d86-0cd10f49eab4",
   "metadata": {},
   "outputs": [
    {
     "data": {
      "image/png": "[encoded data removed]",
      "text/plain": [
       "<Figure size 640x480 with 1 Axes>"
      ]
     },
     "metadata": {},
     "output_type": "display_data"
    }
   ],
   "source": [
    "plt.plot(dados_mercado[\"IBOVESPA\"])\n",
    "plt.title(\"IBOVESPA\")\n",
    "\n",
    "plt.savefig(\"ibovespa.png\")"
   ]
  },
  {
   "cell_type": "code",
   "execution_count": 29,
   "id": "0f360311-3c90-45e7-9d6e-42053b72e6aa",
   "metadata": {},
   "outputs": [
    {
     "data": {
      "image/png": "[encoded data removed]",
      "text/plain": [
       "<Figure size 640x480 with 1 Axes>"
      ]
     },
     "metadata": {},
     "output_type": "display_data"
    }
   ],
   "source": [
    "plt.plot(dados_mercado[\"DOLAR\"])\n",
    "plt.title(\"DOLAR\")\n",
    "\n",
    "plt.savefig(\"dolar.png\")"
   ]
  },
  {
   "cell_type": "code",
   "execution_count": 31,
   "id": "7395b669-54aa-4e86-ba34-b8fb492256be",
   "metadata": {},
   "outputs": [
    {
     "data": {
      "image/png": "[encoded data removed]",
      "text/plain": [
       "<Figure size 640x480 with 1 Axes>"
      ]
     },
     "metadata": {},
     "output_type": "display_data"
    }
   ],
   "source": [
    "plt.plot(dados_mercado[\"S&P500\"])\n",
    "plt.title(\"S&P500\")\n",
    "\n",
    "plt.savefig(\"sp500.png\")"
   ]
  },
  {
   "cell_type": "markdown",
   "id": "233a3f8a-1eb0-4670-8581-9b7cd7cb3016",
   "metadata": {},
   "source": [
    "# Passo 5 - Calcular retornos diários.\r\n"
   ]
  },
  {
   "cell_type": "code",
   "execution_count": 34,
   "id": "1e9c7ec2-21cd-4421-b0aa-c397794b0ad9",
   "metadata": {},
   "outputs": [
    {
     "data": {
      "text/html": [
       "<div>\n",
       "<style scoped>\n",
       "    .dataframe tbody tr th:only-of-type {\n",
       "        vertical-align: middle;\n",
       "    }\n",
       "\n",
       "    .dataframe tbody tr th {\n",
       "        vertical-align: top;\n",
       "    }\n",
       "\n",
       "    .dataframe thead th {\n",
       "        text-align: right;\n",
       "    }\n",
       "</style>\n",
       "<table border=\"1\" class=\"dataframe\">\n",
       "  <thead>\n",
       "    <tr style=\"text-align: right;\">\n",
       "      <th></th>\n",
       "      <th>DOLAR</th>\n",
       "      <th>IBOVESPA</th>\n",
       "      <th>S&amp;P500</th>\n",
       "    </tr>\n",
       "    <tr>\n",
       "      <th>Date</th>\n",
       "      <th></th>\n",
       "      <th></th>\n",
       "      <th></th>\n",
       "    </tr>\n",
       "  </thead>\n",
       "  <tbody>\n",
       "    <tr>\n",
       "      <th>2024-03-13</th>\n",
       "      <td>NaN</td>\n",
       "      <td>NaN</td>\n",
       "      <td>NaN</td>\n",
       "    </tr>\n",
       "    <tr>\n",
       "      <th>2024-03-14</th>\n",
       "      <td>0.000101</td>\n",
       "      <td>-0.002469</td>\n",
       "      <td>-0.002871</td>\n",
       "    </tr>\n",
       "    <tr>\n",
       "      <th>2024-03-15</th>\n",
       "      <td>0.004729</td>\n",
       "      <td>-0.007424</td>\n",
       "      <td>-0.006483</td>\n",
       "    </tr>\n",
       "    <tr>\n",
       "      <th>2024-03-18</th>\n",
       "      <td>-0.004938</td>\n",
       "      <td>0.001673</td>\n",
       "      <td>0.006318</td>\n",
       "    </tr>\n",
       "    <tr>\n",
       "      <th>2024-03-19</th>\n",
       "      <td>0.012349</td>\n",
       "      <td>0.004529</td>\n",
       "      <td>0.005649</td>\n",
       "    </tr>\n",
       "    <tr>\n",
       "      <th>...</th>\n",
       "      <td>...</td>\n",
       "      <td>...</td>\n",
       "      <td>...</td>\n",
       "    </tr>\n",
       "    <tr>\n",
       "      <th>2024-09-06</th>\n",
       "      <td>-0.013205</td>\n",
       "      <td>-0.014139</td>\n",
       "      <td>-0.017260</td>\n",
       "    </tr>\n",
       "    <tr>\n",
       "      <th>2024-09-09</th>\n",
       "      <td>0.005227</td>\n",
       "      <td>0.001226</td>\n",
       "      <td>0.011580</td>\n",
       "    </tr>\n",
       "    <tr>\n",
       "      <th>2024-09-10</th>\n",
       "      <td>-0.002198</td>\n",
       "      <td>-0.003095</td>\n",
       "      <td>0.004473</td>\n",
       "    </tr>\n",
       "    <tr>\n",
       "      <th>2024-09-11</th>\n",
       "      <td>0.014075</td>\n",
       "      <td>0.002658</td>\n",
       "      <td>0.010665</td>\n",
       "    </tr>\n",
       "    <tr>\n",
       "      <th>2024-09-12</th>\n",
       "      <td>0.000795</td>\n",
       "      <td>-0.004812</td>\n",
       "      <td>0.007495</td>\n",
       "    </tr>\n",
       "  </tbody>\n",
       "</table>\n",
       "<p>125 rows × 3 columns</p>\n",
       "</div>"
      ],
      "text/plain": [
       "               DOLAR  IBOVESPA    S&P500\n",
       "Date                                    \n",
       "2024-03-13       NaN       NaN       NaN\n",
       "2024-03-14  0.000101 -0.002469 -0.002871\n",
       "2024-03-15  0.004729 -0.007424 -0.006483\n",
       "2024-03-18 -0.004938  0.001673  0.006318\n",
       "2024-03-19  0.012349  0.004529  0.005649\n",
       "...              ...       ...       ...\n",
       "2024-09-06 -0.013205 -0.014139 -0.017260\n",
       "2024-09-09  0.005227  0.001226  0.011580\n",
       "2024-09-10 -0.002198 -0.003095  0.004473\n",
       "2024-09-11  0.014075  0.002658  0.010665\n",
       "2024-09-12  0.000795 -0.004812  0.007495\n",
       "\n",
       "[125 rows x 3 columns]"
      ]
     },
     "execution_count": 34,
     "metadata": {},
     "output_type": "execute_result"
    }
   ],
   "source": [
    "retornos_diarios = dados_mercado.pct_change()\n",
    "\n",
    "retornos_diarios"
   ]
  },
  {
   "cell_type": "code",
   "execution_count": 36,
   "id": "9a314d60-6634-44e3-80ce-db24c2e19de0",
   "metadata": {},
   "outputs": [
    {
     "data": {
      "text/plain": [
       "-0.0021977654957378023"
      ]
     },
     "execution_count": 36,
     "metadata": {},
     "output_type": "execute_result"
    }
   ],
   "source": [
    "retornos_diarios[\"DOLAR\"].iloc[-3]"
   ]
  },
  {
   "cell_type": "code",
   "execution_count": 38,
   "id": "874e667e-690e-4723-bda1-de99d39db7a0",
   "metadata": {},
   "outputs": [],
   "source": [
    "retorno_dolar = retornos_diarios[\"DOLAR\"].iloc[-1]\n",
    "retorno_ibovespa = retornos_diarios[\"IBOVESPA\"].iloc[-1]\n",
    "retorno_sp = retornos_diarios[\"S&P500\"].iloc[-1]"
   ]
  },
  {
   "cell_type": "code",
   "execution_count": 40,
   "id": "4509c86d-faae-4651-91a1-002c660db571",
   "metadata": {},
   "outputs": [
    {
     "data": {
      "text/plain": [
       "'0.08%'"
      ]
     },
     "execution_count": 40,
     "metadata": {},
     "output_type": "execute_result"
    }
   ],
   "source": [
    "retorno_dolar = str(round(retorno_dolar * 100, 2)) + \"%\"\n",
    "\n",
    "retorno_dolar"
   ]
  },
  {
   "cell_type": "code",
   "execution_count": 42,
   "id": "674c242f-8801-451d-9d85-2f94f33f429e",
   "metadata": {},
   "outputs": [
    {
     "data": {
      "text/plain": [
       "'0.75%'"
      ]
     },
     "execution_count": 42,
     "metadata": {},
     "output_type": "execute_result"
    }
   ],
   "source": [
    "retorno_ibovespa = str(round(retorno_ibovespa * 100, 2)) + \"%\"\n",
    "retorno_sp = str(round(retorno_sp * 100, 2)) + \"%\"\n",
    "\n",
    "retorno_sp"
   ]
  },
  {
   "cell_type": "code",
   "execution_count": 44,
   "id": "b453947e-de08-46fa-95a0-222034034d84",
   "metadata": {},
   "outputs": [
    {
     "data": {
      "text/plain": [
       "'-0.48%'"
      ]
     },
     "execution_count": 44,
     "metadata": {},
     "output_type": "execute_result"
    }
   ],
   "source": [
    "retorno_ibovespa"
   ]
  },
  {
   "cell_type": "markdown",
   "id": "a6bf5a9d-826c-4c8f-a141-0c4606315b0c",
   "metadata": {},
   "source": [
    "# Passo 6 - Configurar e enviar o e-mail\n"
   ]
  },
  {
   "cell_type": "code",
   "execution_count": 47,
   "id": "b88faf3e-b86a-4a23-a20b-b51c6564bd97",
   "metadata": {},
   "outputs": [
    {
     "name": "stdout",
     "output_type": "stream",
     "text": [
      "Requirement already satisfied: pywin32 in c:\\users\\mateu\\anaconda3\\lib\\site-packages (305.1)\n"
     ]
    }
   ],
   "source": [
    "!pip install pywin32"
   ]
  },
  {
   "cell_type": "code",
   "execution_count": 56,
   "id": "65eb80ce-dced-4390-85cc-b2bf0d2b8646",
   "metadata": {},
   "outputs": [],
   "source": [
    "import win32com.client as win32"
   ]
  },
  {
   "cell_type": "code",
   "execution_count": null,
   "id": "0ed44651-558a-49bb-817b-4ccf99a954f8",
   "metadata": {},
   "outputs": [],
   "source": [
    "#smtplib"
   ]
  },
  {
   "cell_type": "code",
   "execution_count": 58,
   "id": "c6e62a94-f30a-418e-a59e-d682fbd4c900",
   "metadata": {},
   "outputs": [],
   "source": [
    "# outlook = win32.Dispatch(\"outlook.application\") \n",
    "\n",
    "# email = outlook.CreateItem(0)"
   ]
  },
  {
   "cell_type": "code",
   "execution_count": 60,
   "id": "d0b1f6e3-e2d6-40fd-9197-3651ccaa6a58",
   "metadata": {},
   "outputs": [],
   "source": [
    "# email.To = \"evento@varos.com.br\"\n",
    "# email.Subject = \"Relatório de Mercado\"\n",
    "# email.Body = f'''Prezado diretor, segue o relatório de mercado:\n",
    "\n",
    "# * O Ibovespa teve o retorno de {retorno_ibovespa}.\n",
    "# * O Dólar teve o retorno de {retorno_dolar}.\n",
    "# * O S&P500 teve o retorno de {retorno_sp}.\n",
    "\n",
    "# Segue em anexo a peformance dos ativos nos últimos 6 meses.\n",
    "\n",
    "# Att,\n",
    "# Melhor estagiário do mundo\n",
    "\n",
    "\n",
    "# '''\n",
    "\n",
    "# anexo_ibovespa = r\"C:\\Users\\VAROS\\Downloads\\ibovespa.png\"\n",
    "# anexo_dolar = r\"C:\\Users\\VAROS\\Downloads\\dolar.png\"\n",
    "# anexo_sp = r\"C:\\Users\\VAROS\\Downloads\\sp500.png\"\n",
    "\n",
    "# email.Attachments.Add(anexo_ibovespa)\n",
    "# email.Attachments.Add(anexo_dolar)\n",
    "# email.Attachments.Add(anexo_sp)\n",
    "\n",
    "# email.Send()\n"
   ]
  },
  {
   "cell_type": "code",
   "execution_count": null,
   "id": "33ae91d5-4ecb-48c5-8450-1977f697f31e",
   "metadata": {},
   "outputs": [],
   "source": []
  }
 ],
 "metadata": {
  "kernelspec": {
   "display_name": "Python 3 (ipykernel)",
   "language": "python",
   "name": "python3"
  },
  "language_info": {
   "codemirror_mode": {
    "name": "ipython",
    "version": 3
   },
   "file_extension": ".py",
   "mimetype": "text/x-python",
   "name": "python",
   "nbconvert_exporter": "python",
   "pygments_lexer": "ipython3",
   "version": "3.12.4"
  }
 },
 "nbformat": 4,
 "nbformat_minor": 5
}
